{
 "cells": [
  {
   "cell_type": "markdown",
   "metadata": {},
   "source": [
    "# PS 3 grading script\n",
    "\n",
    "Notes: \n",
    "- You will want to have a Grading folder in your Google Drive with a subfolder of ps3\n",
    "- Download the spreadsheets from canvas and put them in the Grading/ps3 folder in your Google Drive\n",
    "- The solution file is in Kevin's dropbox folder (link is below)\n",
    "\n",
    "https://colab.research.google.com/github/kpcrotty/mgmt648/blob/main/PS3_grader.ipynb"
   ]
  },
  {
   "cell_type": "markdown",
   "metadata": {},
   "source": [
    "#### Mount Google Drive and list contents\n",
    "\n"
   ]
  },
  {
   "cell_type": "code",
   "execution_count": null,
   "metadata": {},
   "outputs": [],
   "source": [
    "from google.colab import drive\n",
    "drive.mount('/content/drive')\n",
    "!ls \"/content/drive/My Drive/Grading/\""
   ]
  },
  {
   "cell_type": "markdown",
   "metadata": {},
   "source": [
    "#### Packages and File Paths"
   ]
  },
  {
   "cell_type": "code",
   "execution_count": null,
   "metadata": {},
   "outputs": [],
   "source": [
    "import os\n",
    "import pandas as pd\n",
    "import numpy as np\n",
    "import warnings\n",
    "warnings.simplefilter(action='ignore', category=FutureWarning)\n",
    "\n",
    "######################################\n",
    "#File paths\n",
    "######################################\n",
    "PATH  = '/content/drive/MyDrive/Grading'\n",
    "\n",
    "# solution_file = PATH + '/Week 3 Spreadsheet Assignment - SOLUTION.xlsx'\n",
    "solution_file = 'https://www.dropbox.com/scl/fi/mgd9ztkb7yxuxyqt7t74t/Week-3-Spreadsheet-Assignment-SOLUTION.xlsx?rlkey=8306lqoree0s26nakcqg5fqj4&st=9qcc8im8&dl=1'\n",
    "ps_path       = PATH + '/ps3'\n",
    "output_file   = PATH + '/grades_ps3.xlsx'"
   ]
  },
  {
   "cell_type": "markdown",
   "metadata": {},
   "source": [
    "#### Read in solutions"
   ]
  },
  {
   "cell_type": "code",
   "execution_count": 2,
   "metadata": {},
   "outputs": [],
   "source": [
    "######################################\n",
    "#Read in solutions\n",
    "######################################\n",
    "cells_to_pull1 = ['B8', 'B9', 'C8', 'C9', 'B15', 'B16', 'B17', 'B18', 'B21', 'B22', 'B23', 'B25','A25']\n",
    "cells_to_pull = cells_to_pull1\n",
    "solution2 = pd.DataFrame(index=cells_to_pull, columns=['q2'])\n",
    "for i in enumerate(cells_to_pull):  \n",
    "    col_to_pull =str(cells_to_pull[i[0]][0])\n",
    "    row_to_pull =int(cells_to_pull[i[0]][1:])-1       \n",
    "    solution2.iloc[i[0],0]=pd.read_excel(solution_file,sheet_name='WACC', usecols=col_to_pull,skiprows=row_to_pull,nrows=1,header=None).iloc[0,0]"
   ]
  },
  {
   "cell_type": "markdown",
   "metadata": {},
   "source": [
    "#### Read in student solutions \n",
    "\n",
    "- should be downloaded and unzipped from canvas and place in Grading/ps3 folder of google drive"
   ]
  },
  {
   "cell_type": "code",
   "execution_count": null,
   "metadata": {},
   "outputs": [
    {
     "name": "stdout",
     "output_type": "stream",
     "text": [
      "bohlsbrandon_39687_5100212_BRANDON_BOHLS_Week 3 Spreadsheet Assignment - Template.xlsx\n",
      "Deduction for WACC\n",
      "brownchristopher_2430_5085137_Brown_Christopher_Week 3 Spreadsheet Assignment.xlsx\n",
      "drennannicole_28037_5072257_Drennan_Nicole_Week 3 Spreadsheet Assignment.xlsx\n",
      "enechukwunnamdi_16347_5100295_Enechukwu_Ikenna Week 3 Spreadsheet Assignment - Template.xlsx\n",
      "Deduction for cost_of_debt_avg\n",
      "gomezjulio_2295_5089408_Gomez_Julio_Week 3 Spreadsheet Assignment.xlsx\n",
      "grossrandy_26554_5082186_Gross_Randy_Week 3 Spreadsheet Assignment.xlsx\n",
      "howehaley_33411_5087624_Howe_Haley_Assignment 3.xlsx\n",
      "kimdohyun_39713_5082438_Kim_Dohyun_Week 3 Spreadsheet Assignment - Template.xlsx\n",
      "lejeunejason_39678_5079236_Week 3 Spreadsheet Assignment - Jason LeJeune.xlsx\n",
      "loganjustin_39692_5085427_Justin_Logan_Week 3 Spreadsheet Assignment - Template.xlsx\n",
      "lylesisaac_32496_5085102_Week 3 Spreadsheet Assignment - Lyles_Isaac-1.xlsx\n",
      "neufeldwayne_28398_5078539_MGMT-648_Wayne_Neufeld_Week_3_Assignment.xlsx\n",
      "Deduction for r_e\n",
      "Deduction for cost_of_debt_avg\n",
      "reiterkathleen_28303_5087159_Reiter_Kathleen_Week 3 Assignment 3.xlsx\n",
      "Deduction for weights\n",
      "Deduction for r_e\n",
      "Deduction for cost_of_debt_yield\n",
      "rodriguezgarciapedro_32516_5071022_Rodriguez-Garcia_Pedro_Week 3 Spreadsheet Assignment.xlsx\n",
      "rosetjames_28036_5071300_James_Roset_Week 3 Spreadsheet Assignment.xlsx\n",
      "sandovalcaleb_39689_5080540_Sandoval_Caleb_Week 3 Spreadsheet Assignment.xlsx\n",
      "Deduction for weights\n",
      "Deduction for cost_of_debt_avg\n",
      "Deduction for cost_of_debt_yield\n",
      "Deduction for WACC\n"
     ]
    }
   ],
   "source": [
    "######################################\n",
    "# Read in student submissions\n",
    "# Downloaded and unzipped from canvas    \n",
    "######################################    \n",
    "\n",
    "#Pull file names for the particular folder path\n",
    "file_list = os.listdir(ps_path)\n",
    "os.chdir(ps_path)\n",
    "zeros = np.zeros(len(file_list), dtype=[('q1_err','f8'),    ('q1_wgts','f8'),('q1_rf','f8'),('q1_beta','f8'),('q1_mrp','f8'),('q1_re','f8'),('q1_rd_avg','f8'),('q1_rd_ytm','f8'),('q1_wacc','f8'),('q1_total','f8')])\n",
    "deductions = pd.DataFrame(zeros)    \n",
    "\n",
    "\n",
    "for f in enumerate(file_list):\n",
    "# for f in enumerate([file_list[0]]):\n",
    "    print(f[1])\n",
    "\n",
    "    # Question 1 (WACC):\n",
    "    cells_to_pull = cells_to_pull1\n",
    "    ans2 = pd.DataFrame(index=cells_to_pull, columns=['q1'])\n",
    "    try:\n",
    "        for i in enumerate(cells_to_pull):\n",
    "    \n",
    "            # print(str(i[0])+' is '+str(i[1]))  \n",
    "            # print(str(cells_to_pull[i[0]][1:]))\n",
    "            \n",
    "            col_to_pull =str(cells_to_pull[i[0]][0])\n",
    "            row_to_pull =int(cells_to_pull[i[0]][1:])-1 \n",
    "            # print(str(row_to_pull))\n",
    "                \n",
    "            ans2.iloc[i[0],0]=pd.read_excel(f[1],sheet_name='WACC', usecols=col_to_pull,skiprows=row_to_pull,nrows=1,header=None).iloc[0,0]\n",
    "            # ans.iloc[i[0],0]=pd.read_excel(file_list[0],sheet_name='Part 1', usecols='C',skiprows=14,nrows=1,header=None).iloc[0,0]\n",
    "\n",
    "    except:\n",
    "        print('Q1 Read error')\n",
    "        deductions.loc[f[0],'q1_err']=1  \n",
    "\n",
    "\n",
    "    try:    \n",
    "        if deductions.loc[f[0],'q1_err']==0:\n",
    "        \n",
    "            #Check for row insertion\n",
    "            if ans2.loc['A25'][0]!=solution2.loc['A25'][0]:\n",
    "                print('Q1 row problem')\n",
    "                deductions.loc[f[0],'q1_err']=1\n",
    "            \n",
    "            if ans2.loc['B15'][0]>1:\n",
    "                ans2.loc['B15'][0]=ans2.loc['B15'][0]/100\n",
    "            if ans2.loc['B17'][0]>1:\n",
    "                ans2.loc['B17'][0]=ans2.loc['B17'][0]/100\n",
    "            if ans2.loc['B18'][0]>1:\n",
    "                ans2.loc['B18'][0]=ans2.loc['B18'][0]/100\n",
    "            if ans2.loc['B21'][0]>1:\n",
    "                ans2.loc['B21'][0]=ans2.loc['B21'][0]/100\n",
    "            if ans2.loc['B22'][0]>1:\n",
    "                ans2.loc['B22'][0]=ans2.loc['B22'][0]/100       \n",
    "            if ans2.loc['B23'][0]>1:\n",
    "                ans2.loc['B23'][0]=ans2.loc['B23'][0]/100    \n",
    "            if ans2.loc['B25'][0]>1:\n",
    "                ans2.loc['B25'][0]=ans2.loc['B25'][0]/100                  \n",
    "                \n",
    "            #Weights either from balance sheet or debt sheet;\n",
    "            if not(round(ans2.loc['C9'][0],2)==round(solution2.loc['C9'][0],2) or round(ans2.loc['C9'][0],2)==round(0.1529,2)):\n",
    "                    print('Deduction for weights')\n",
    "                    deductions.loc[f[0],'q1_wgts'] = deductions.loc[f[0],'q1_wgts']-0.5\n",
    "                    \n",
    "            #Risk-free rate - 10 yr rate = 1.51%, 5 yr rate = 1.32%, 7 year rate = 1.42%\n",
    "            if not(round(ans2.loc['B15'][0],3) >= 0.013 and round(ans2.loc['B15'][0],3) <= 0.0199):\n",
    "                    print('Deduction for rf')\n",
    "                    deductions.loc[f[0],'q1_rf'] = deductions.loc[f[0],'q1_rf']-0.5\n",
    "                    \n",
    "            #Beta - 0.53 or 0.69\n",
    "            if not(round(ans2.loc['B16'][0],2) == 0.53 or round(ans2.loc['B16'][0],2) == 0.69):\n",
    "                    print('Deduction for beta')\n",
    "                    deductions.loc[f[0],'q1_beta'] = deductions.loc[f[0],'q1_beta']-0.5\n",
    "                \n",
    "            #Market Risk Premium\n",
    "            if not(round(ans2.loc['B17'][0],3) >= 0.04 and round(ans2.loc['B17'][0],3) <= 0.06):            \n",
    "            # if not(round(ans2.loc['B17'][0],2) == 0.05):\n",
    "                    print('Deduction for MRP')\n",
    "                    deductions.loc[f[0],'q1_mrp'] = deductions.loc[f[0],'q1_mrp']-0.5            \n",
    "    \n",
    "            #Cost of equity\n",
    "            if not(round(ans2.loc['B18'][0],3) == round(ans2.loc['B17'][0]*ans2.loc['B16'][0] + ans2.loc['B15'][0],3)):\n",
    "                    print('Deduction for r_e')\n",
    "                    deductions.loc[f[0],'q1_re'] = deductions.loc[f[0],'q1_re']-0.5 \n",
    "            \n",
    "            #Cost of debt - historical method  #maybe relax?\n",
    "            if not((round(ans2.loc['B21'][0],3) >= 0.033)&(round(ans2.loc['B21'][0],3) <= 0.035)):\n",
    "                    print('Deduction for cost_of_debt_avg')\n",
    "                    deductions.loc[f[0],'q1_rd_avg'] = deductions.loc[f[0],'q1_rd_avg']-0.5 \n",
    "    \n",
    "            #Cost of debt - yield - simple average = 0.0189; wtd avg = 0.0201\n",
    "            if not(round(ans2.loc['B22'][0],3) == 0.019 or round(ans2.loc['B22'][0],3) <= 0.020):\n",
    "                    print('Deduction for cost_of_debt_yield')\n",
    "                    deductions.loc[f[0],'q1_rd_ytm'] = deductions.loc[f[0],'q1_rd_ytm']-0.5 \n",
    "    \n",
    "            #WACC\n",
    "            if not(round(ans2.loc['B25'][0],3) == round(ans2.loc['C9'][0]*(1-0.21)*ans2.loc['B23'][0] + ans2.loc['B18'][0]*ans2.loc['C8'][0] ,3)):\n",
    "                    print('Deduction for WACC')\n",
    "                    deductions.loc[f[0],'q1_wacc'] = deductions.loc[f[0],'q1_wacc']-0.5 \n",
    "            deductions.loc[f[0],'q1_total'] = sum(deductions.loc[f[0],'q1_wgts':'q1_wacc'])\n",
    "    except:\n",
    "        ded=ans2.copy()\n",
    "        print('Q1 Grade error')\n",
    "        deductions.loc[f[0],'q1_err']=1 \n",
    "    \n",
    "  \n",
    "deductions['sum']=10+deductions['q1_total']\n",
    "\n",
    "deductions['feedback'] = np.where(deductions.q1_total < 0 , 'Deductions For: ', '')\n",
    "deductions['feedback'] +=np.where(deductions.q1_wgts  < 0 , '\\nweights; ', '')\n",
    "deductions['feedback'] += np.where(deductions.q1_rf < 0 , '\\nrisk-free; ', '')\n",
    "deductions['feedback'] += np.where(deductions.q1_beta < 0 , '\\nbeta; ', '')\n",
    "deductions['feedback'] += np.where(deductions.q1_mrp  < 0 , '\\nmarket-risk-premium; ', '')\n",
    "deductions['feedback'] += np.where(deductions.q1_re   < 0 , '\\ncost-of-equity; ', '')\n",
    "deductions['feedback'] += np.where(deductions.q1_rd_avg  < 0 , '\\navg cost method cost-of-debt; ', '')\n",
    "deductions['feedback'] += np.where(deductions.q1_rd_ytm  < 0 , '\\nYTM method cost-of-debt; ', '')\n",
    "deductions['feedback'] += np.where(deductions.q1_wacc    < 0 , '\\nWACC; ', '')"
   ]
  },
  {
   "cell_type": "markdown",
   "metadata": {},
   "source": [
    "#### Output grading file to excel and list results"
   ]
  },
  {
   "cell_type": "code",
   "execution_count": null,
   "metadata": {},
   "outputs": [],
   "source": [
    "#Output to Excel\n",
    "deductions['filename']=file_list\n",
    "deductions.to_excel(output_file)    "
   ]
  },
  {
   "cell_type": "code",
   "execution_count": null,
   "metadata": {},
   "outputs": [],
   "source": [
    "# List first 20 rows of results\n",
    "deductions.head(20)"
   ]
  }
 ],
 "metadata": {
  "kernelspec": {
   "display_name": "Python 3",
   "language": "python",
   "name": "python3"
  },
  "language_info": {
   "codemirror_mode": {
    "name": "ipython",
    "version": 3
   },
   "file_extension": ".py",
   "mimetype": "text/x-python",
   "name": "python",
   "nbconvert_exporter": "python",
   "pygments_lexer": "ipython3",
   "version": "3.10.6"
  },
  "orig_nbformat": 4
 },
 "nbformat": 4,
 "nbformat_minor": 2
}
