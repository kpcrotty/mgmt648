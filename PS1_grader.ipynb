{
 "cells": [
  {
   "cell_type": "markdown",
   "metadata": {},
   "source": [
    "# PS 1 grading script"
   ]
  },
  {
   "cell_type": "markdown",
   "metadata": {},
   "source": [
    "#### Mount Google Drive and list contents\n",
    "Notes: \n",
    "- You will want to have a Grading folder in your Google Drive with a subfolder of ps1\n",
    "- Download the spreadsheets from canvas and put them in the Grading/ps1 folder in your Google Drive\n",
    "- Make sure the solution file is in the Grading folder as well\n",
    "\n",
    "https://colab.research.google.com/github/kpcrotty/mgmt648/blob/main/PS1_grader.ipynb\n"
   ]
  },
  {
   "cell_type": "code",
   "execution_count": null,
   "metadata": {},
   "outputs": [],
   "source": [
    "from google.colab import drive\n",
    "drive.mount('/content/drive', force_remount=True)\n",
    "!ls \"/content/drive/My Drive/Grading/\""
   ]
  },
  {
   "cell_type": "markdown",
   "metadata": {},
   "source": [
    "#### Packages and File Paths"
   ]
  },
  {
   "cell_type": "code",
   "execution_count": null,
   "metadata": {},
   "outputs": [],
   "source": [
    "import os\n",
    "import pandas as pd\n",
    "import numpy as np\n",
    "import warnings\n",
    "warnings.simplefilter(action='ignore', category=FutureWarning)\n",
    "\n",
    "######################################\n",
    "#File paths\n",
    "######################################\n",
    "PATH  = '/content/drive/MyDrive/Grading'\n",
    "\n",
    "solution_file = PATH + '/Week 1 Spreadsheet Assignment - SOLUTION.xlsx'\n",
    "ps_path       = PATH + '/ps1'\n",
    "output_file   = PATH + '/grades_ps1.xlsx'"
   ]
  },
  {
   "cell_type": "markdown",
   "metadata": {},
   "source": [
    "#### Read in solutions"
   ]
  },
  {
   "cell_type": "code",
   "execution_count": 2,
   "metadata": {},
   "outputs": [],
   "source": [
    "\n",
    "######################################\n",
    "#Read in solutions\n",
    "######################################\n",
    "cells_to_pull = ['C15', 'C16', 'C19', 'C24', 'C42', 'D24', 'D42', 'G24', 'G42', 'H24', 'H42', 'B44']\n",
    "solution1 = pd.DataFrame(index=cells_to_pull, columns=['q1'])\n",
    "for i in enumerate(cells_to_pull):  \n",
    "    col_to_pull =str(cells_to_pull[i[0]][0])\n",
    "    row_to_pull =int(cells_to_pull[i[0]][1:])-1       \n",
    "    solution1.iloc[i[0],0]=pd.read_excel(solution_file,sheet_name='Part 1', usecols=col_to_pull,skiprows=row_to_pull,nrows=1,header=None).iloc[0,0]\n",
    "\n",
    "cells_to_pull = ['B11', 'B12', 'B17', 'B18', 'B19', 'B29', 'B30', 'B31', 'B32', 'B33', 'A33']\n",
    "solution2 = pd.DataFrame(index=cells_to_pull, columns=['q2'])\n",
    "for i in enumerate(cells_to_pull):  \n",
    "    col_to_pull =str(cells_to_pull[i[0]][0])\n",
    "    row_to_pull =int(cells_to_pull[i[0]][1:])-1       \n",
    "    solution2.iloc[i[0],0]=pd.read_excel(solution_file,sheet_name='Part 2', usecols=col_to_pull,skiprows=row_to_pull,nrows=1,header=None).iloc[0,0]\n",
    "\n",
    "cells_to_pull = ['C11', 'C12', 'C13', 'C15', 'C16', 'C19', 'C39', 'C40',  'D19', 'D39', 'D40',  'E19', 'E39', 'E40', 'F19', 'F39', 'F40', 'G19', 'G39', 'G40','B47','B40']\n",
    "solution3 = pd.DataFrame(index=cells_to_pull, columns=['q3'])\n",
    "for i in enumerate(cells_to_pull):  \n",
    "    col_to_pull =str(cells_to_pull[i[0]][0])\n",
    "    row_to_pull =int(cells_to_pull[i[0]][1:])-1       \n",
    "    solution3.iloc[i[0],0]=pd.read_excel(solution_file,sheet_name='Part 3', usecols=col_to_pull,skiprows=row_to_pull,nrows=1,header=None).iloc[0,0]\n",
    "\n"
   ]
  },
  {
   "cell_type": "markdown",
   "metadata": {},
   "source": [
    "#### Read in student solutions \n",
    "\n",
    "- should be downloaded and unzipped from canvas and place in Grading/ps1 folder of google drive"
   ]
  },
  {
   "cell_type": "code",
   "execution_count": null,
   "metadata": {},
   "outputs": [],
   "source": [
    "######################################\n",
    "# Read in student submissions\n",
    "# Downloaded and unzipped from canvas    \n",
    "######################################    \n",
    "\n",
    "\n",
    "#Pull file names for the particular folder path\n",
    "file_list = os.listdir(ps_path)\n",
    "os.chdir(ps_path)\n",
    "zeros = np.zeros(len(file_list), dtype=[('q1','f8'),('q2','f8'),('q3','f8'),('q1err','f8'),('q2err','f8'),('q3err','f8')])\n",
    "deductions = pd.DataFrame(zeros)    \n",
    "\n",
    "deductions['Q1 feedback'] = 'Q1 Deductions For: '\n",
    "deductions['Q2 feedback'] = 'Q2 Deductions For: '\n",
    "deductions['Q3 feedback'] = 'Q3 Deductions For: '\n",
    "\n",
    "for f in enumerate(file_list):\n",
    "    print(f[1])\n",
    " \n",
    "    ###### Question 1: ######\n",
    "    cells_to_pull = ['C15', 'C16', 'C19', 'C24', 'C42', 'D24', 'D42', 'G24', 'G42', 'H24', 'H42', 'B44']\n",
    "    # cells_to_pull[0][0]\n",
    "    # cells_to_pull[0][1:]\n",
    "    ans1 = pd.DataFrame(index=cells_to_pull, columns=['q1'])\n",
    "    try:\n",
    "        for i in enumerate(cells_to_pull):\n",
    "    \n",
    "            # print(str(i[0])+' is '+str(i[1]))  \n",
    "            # print(str(cells_to_pull[i[0]][1:]))\n",
    "            \n",
    "            col_to_pull =str(cells_to_pull[i[0]][0])\n",
    "            row_to_pull =int(cells_to_pull[i[0]][1:])-1 \n",
    "            # print(str(row_to_pull))\n",
    "                \n",
    "            ans1.iloc[i[0],0]=pd.read_excel(f[1],sheet_name='Part 1', usecols=col_to_pull,skiprows=row_to_pull,nrows=1,header=None).iloc[0,0]\n",
    "            # ans.iloc[i[0],0]=pd.read_excel(file_list[0],sheet_name='Part 1', usecols='C',skiprows=14,nrows=1,header=None).iloc[0,0]\n",
    "    except:\n",
    "        print('   Q1 Read error')\n",
    "        deductions.loc[f[0],'q1err']=1    \n",
    "    \n",
    "    try:\n",
    "        #Check for row insertion\n",
    "        if ans1.loc['B44'][0]!=solution1.loc['B44'][0]:\n",
    "            print('   Q1 row problem')\n",
    "            deductions.loc[f[0],'q1err']=1\n",
    "        if deductions.loc[f[0],'q1err']==0:\n",
    "            if round(ans1.loc['C19'][0],2)!=round(solution1.loc['C19'][0],2):\n",
    "                deductions.loc[f[0],'q1'] = deductions.loc[f[0],'q1']-1\n",
    "                deductions.loc[f[0],'Q1 feedback'] += '\\nbond price; '\n",
    "            if round(ans1.loc['C24'][0],2)!=round(solution1.loc['C24'][0],2) or                round(ans1.loc['C42'][0],2)!=round(solution1.loc['C42'][0],2) or                round(ans1.loc['D24'][0],2)!=round(solution1.loc['D24'][0],2) or                round(ans1.loc['D42'][0],2)!=round(solution1.loc['D42'][0],2):\n",
    "                deductions.loc[f[0],'q1'] = deductions.loc[f[0],'q1']-1\n",
    "                deductions.loc[f[0],'Q1 feedback'] += '\\nlocked cell table; '\n",
    "            if round(ans1.loc['G24'][0],2)!=round(solution1.loc['G24'][0],2) or round(ans1.loc['G42'][0],2)!=round(solution1.loc['G42'][0],2) or                 round(ans1.loc['H24'][0],2)!=round(solution1.loc['H24'][0],2) or round(ans1.loc['H42'][0],2)!=round(solution1.loc['H42'][0],2):\n",
    "                deductions.loc[f[0],'q1'] = deductions.loc[f[0],'q1']-1\n",
    "                deductions.loc[f[0],'Q1 feedback'] += '\\ndata table; '\n",
    "            if deductions.loc[f[0],'q1']<-1.5:\n",
    "                deductions.loc[f[0],'q1']=-1.5 \n",
    "    except:\n",
    "        print('   Q1 Grade error')\n",
    "        deductions.loc[f[0],'q1err']=10    \n",
    "    \n",
    "\n",
    "    \n",
    "    ###### Question 2: ######\n",
    "    # if f[1]!='guerrejoseph_35368_2127689_PS1 Spreadsheet Assignment 08-12-2020.xlsx':\n",
    "    try:\n",
    "        cells_to_pull = ['B11', 'B12', 'B17', 'B18', 'B19', 'B29', 'B30', 'B31', 'B32', 'B33', 'A33']\n",
    "        ans2 = pd.DataFrame(index=cells_to_pull, columns=['q2'])\n",
    "        for i in enumerate(cells_to_pull):\n",
    "            col_to_pull =str(cells_to_pull[i[0]][0])\n",
    "            row_to_pull =int(cells_to_pull[i[0]][1:])-1        \n",
    "            try: \n",
    "                ans2.iloc[i[0],0]=pd.read_excel(f[1],sheet_name='Part 2', usecols=col_to_pull,skiprows=row_to_pull,nrows=1,header=None).iloc[0,0]  \n",
    "                \n",
    "            except ValueError:\n",
    "                print('a first error')\n",
    "                deductions.loc[f[0],'q2'] =-10\n",
    "    except:\n",
    "        print('   Q2 Read error')\n",
    "        deductions.loc[f[0],'q2err']=1  \n",
    "\n",
    "      \n",
    "    try:\n",
    "        if round(ans2.loc['B18'][0],2)!=round(solution2.loc['B18'][0],2) :\n",
    "            deductions.loc[f[0],'q2'] = deductions.loc[f[0],'q2']-1      \n",
    "            deductions.loc[f[0],'Q2 feedback'] += '\\nduration; '\n",
    "        if abs(ans2.loc['B29','q2']) > 1:\n",
    "            ans2.loc['B29','q2'] = ans2.loc['B29','q2']/100            \n",
    "        if abs(round(ans2.loc['B29'][0],3))!=abs(round(solution2.loc['B29'][0],3)):\n",
    "            print('   Q2 duration-implied percentage error')\n",
    "            deductions.loc[f[0],'q2'] = deductions.loc[f[0],'q2']-0.5     \n",
    "            deductions.loc[f[0],'Q2 feedback'] += '\\nduration-implied percentage change; '\n",
    "        # if abs(round(ans2.loc['B30'][0],1))!=abs(round(solution2.loc['B30'][0],1)):◄\n",
    "        if abs(round(ans2.loc['B30'][0],1))!=abs(round( ans2.loc['B29'][0] *ans2.loc['B17'][0],1)):\n",
    "            print('   Q2 duration-implied dollar error')\n",
    "            deductions.loc[f[0],'q2'] = deductions.loc[f[0],'q2']-0.5   \n",
    "            deductions.loc[f[0],'Q2 feedback'] += '\\nduration-implied dollar change; '\n",
    "        if round(ans2.loc['B32'][0],3)!=round(solution2.loc['B32'][0],3):\n",
    "            print('   Q2 actual price change percentage error')\n",
    "            deductions.loc[f[0],'q2'] = deductions.loc[f[0],'q2']-0.5     \n",
    "            deductions.loc[f[0],'Q2 feedback'] += '\\nactual price percentage change; '\n",
    "        if round(ans2.loc['B33'][0],1)!=round(solution2.loc['B33'][0],1):\n",
    "            print('   Q2 actual price change dollar error')\n",
    "            deductions.loc[f[0],'q2'] = deductions.loc[f[0],'q2']-0.5                 \n",
    "            deductions.loc[f[0],'Q2 feedback'] += '\\nactual price dollar change; '\n",
    "        # if abs(round(ans2.loc['B29'][0],3))!=abs(round(solution2.loc['B29'][0],3)) or         abs(round(ans2.loc['B30'][0],1))!=abs(round(solution2.loc['B30'][0],1)) or         round(ans2.loc['B32'][0],3)!=round(solution2.loc['B32'][0],3) or         round(ans2.loc['B33'][0],1)!=round(solution2.loc['B33'][0],1):\n",
    "            # deductions.loc[f[0],'q2'] = deductions.loc[f[0],'q2']-1              \n",
    "        if ans2.loc['A33'][0]!=solution2.loc['A33'][0]:\n",
    "            print('   Q2 row problem')\n",
    "            deductions.loc[f[0],'q2err']=1\n",
    "        # Cap deductions\n",
    "        if deductions.loc[f[0],'q2']<-2:\n",
    "            deductions.loc[f[0],'q2']=-2             \n",
    "    except:\n",
    "        print('   Q2 Grade error')\n",
    "        deductions.loc[f[0],'q2err']=10   \n",
    "      \n",
    "\n",
    "    \n",
    "    \n",
    "    ###### Question 3: ######\n",
    "    try: \n",
    "        cells_to_pull = ['C11', 'C12', 'C13', 'C15', 'C16', 'C19', 'C39', 'C40',  'D19', 'D39', 'D40',  'E19', 'E39', 'E40', 'F19', 'F39', 'F40', 'G19', 'G39', 'G40','B47','B40']\n",
    "        ans3 = pd.DataFrame(index=cells_to_pull, columns=['q3'])\n",
    "        for i in enumerate(cells_to_pull):\n",
    "            col_to_pull =str(cells_to_pull[i[0]][0])\n",
    "            row_to_pull =int(cells_to_pull[i[0]][1:])-1 \n",
    "            ans3.iloc[i[0],0]=pd.read_excel(f[1],sheet_name='Part 3', usecols=col_to_pull,skiprows=row_to_pull,nrows=1,header=None).iloc[0,0]   \n",
    "    except:\n",
    "        print('   Q3 Read error')\n",
    "        deductions.loc[f[0],'q3err']=1      \n",
    "\n",
    "    try:\n",
    "        #Missed both FV formula and Total Value amount\n",
    "        if round(ans3.loc['D19'][0],2)!=round(solution3.loc['D19'][0],2) and round(ans3.loc['D40'][0],2)!=round(solution3.loc['D40'][0],2):\n",
    "            deductions.loc[f[0],'q3'] = deductions.loc[f[0],'q3']-1.5    \n",
    "            deductions.loc[f[0],'Q3 feedback'] += '\\nbond FV; \\nreinvested proceeds FV; '\n",
    "        #Missed either\n",
    "        if deductions.loc[f[0],'q3'] ==0.0 and (round(ans3.loc['D19'][0],2)!=round(solution3.loc['D19'][0],2) or round(ans3.loc['D40'][0],2)!=round(solution3.loc['D40'][0],2)):\n",
    "            deductions.loc[f[0],'q3'] = deductions.loc[f[0],'q3']-1    \n",
    "            if round(ans3.loc['D19'][0],2)!=round(solution3.loc['D19'][0],2) :\n",
    "                deductions.loc[f[0],'Q3 feedback'] += '\\nreinvested proceeds FV; '\n",
    "            else:\n",
    "                deductions.loc[f[0],'Q3 feedback'] += '\\nbond FV; '\n",
    "        #Missed either duration calculation\n",
    "        if round(ans3.loc['C13'][0],2)!=round(solution3.loc['C13'][0],2) or round(ans3.loc['C16'][0],2)!=round(solution3.loc['C16'][0],2):\n",
    "            deductions.loc[f[0],'q3'] = deductions.loc[f[0],'q3']-0.5     \n",
    "            deductions.loc[f[0],'Q3 feedback'] += '\\nduration; '\n",
    "        #Cap deduction at -2\n",
    "        if deductions.loc[f[0],'q3']<-2:\n",
    "            deductions.loc[f[0],'q3']=-2      \n",
    "        if ans3.loc['B40'][0]!=solution3.loc['B40'][0]:\n",
    "            print('   Q3 row problem')\n",
    "            deductions.loc[f[0],'q3err']=1   \n",
    "    except:\n",
    "        print('   Q3 Grade error')\n",
    "        deductions.loc[f[0],'q3err']=10 "
   ]
  },
  {
   "cell_type": "code",
   "execution_count": null,
   "metadata": {},
   "outputs": [],
   "source": [
    "deductions['Q1 feedback'] = np.where(deductions['Q1 feedback'] == 'Q1 Deductions For: ' , '', deductions['Q1 feedback'])\n",
    "deductions['Q2 feedback'] = np.where(deductions['Q2 feedback'] == 'Q2 Deductions For: ' , '', deductions['Q2 feedback'])\n",
    "deductions['Q3 feedback'] = np.where(deductions['Q3 feedback'] == 'Q3 Deductions For: ' , '', deductions['Q3 feedback'])\n",
    "deductions['sum']=10+deductions['q1']+deductions['q2']+deductions['q3']\n",
    "deductions['filename']=file_list\n",
    "deductions['feedback'] = deductions['Q1 feedback'] + '\\n' + deductions['Q2 feedback'] + '\\n' + deductions['Q3 feedback']"
   ]
  },
  {
   "cell_type": "markdown",
   "metadata": {},
   "source": [
    "#### Output grading file to excel and list results"
   ]
  },
  {
   "cell_type": "code",
   "execution_count": null,
   "metadata": {},
   "outputs": [],
   "source": [
    "#Output to Excel  \n",
    "deductions.to_excel(output_file)    "
   ]
  },
  {
   "cell_type": "code",
   "execution_count": null,
   "metadata": {},
   "outputs": [],
   "source": [
    "# List first 20 rows of results\n",
    "deductions.head(20)"
   ]
  },
  {
   "cell_type": "markdown",
   "metadata": {},
   "source": [
    "#### List feedback for a single student\n",
    "- can be used to copy and paste feedback into canvas speedgrader comments box"
   ]
  },
  {
   "cell_type": "code",
   "execution_count": null,
   "metadata": {},
   "outputs": [],
   "source": [
    "# List feedback for first student\n",
    "deductions.loc[0,'feedback']"
   ]
  },
  {
   "cell_type": "code",
   "execution_count": null,
   "metadata": {},
   "outputs": [],
   "source": [
    "# List feedback for second student\n",
    "deductions.loc[1,'feedback']"
   ]
  }
 ],
 "metadata": {
  "kernelspec": {
   "display_name": "Python 3",
   "language": "python",
   "name": "python3"
  },
  "language_info": {
   "codemirror_mode": {
    "name": "ipython",
    "version": 3
   },
   "file_extension": ".py",
   "mimetype": "text/x-python",
   "name": "python",
   "nbconvert_exporter": "python",
   "pygments_lexer": "ipython3",
   "version": "3.10.4"
  },
  "orig_nbformat": 4
 },
 "nbformat": 4,
 "nbformat_minor": 2
}
